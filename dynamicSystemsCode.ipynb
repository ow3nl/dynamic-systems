{
 "cells": [
  {
   "cell_type": "markdown",
   "metadata": {},
   "source": [
    "## Code Initialization"
   ]
  },
  {
   "cell_type": "code",
   "execution_count": 1,
   "metadata": {},
   "outputs": [],
   "source": [
    "%matplotlib inline\n",
    "import matplotlib.pyplot as plt\n",
    "plt.style.use('seaborn-whitegrid')\n",
    "import math, cmath, random\n",
    "import numpy as np\n",
    "import sympy as sp\n",
    "sp.init_printing(use_unicode=True)"
   ]
  },
  {
   "cell_type": "markdown",
   "metadata": {},
   "source": [
    "## Functions"
   ]
  },
  {
   "cell_type": "code",
   "execution_count": 2,
   "metadata": {},
   "outputs": [],
   "source": [
    "def reset_pts(n=4):\n",
    "    \n",
    "    points = []\n",
    "    \n",
    "    for k in range(n):\n",
    "        arg = k*2*math.pi/n\n",
    "        points.append(complex(math.cos(arg), math.sin(arg)))\n",
    "    \n",
    "    return points\n",
    "\n",
    "def reorder(pts, new_order):\n",
    "    return [pts[i] for i in new_order]\n",
    "\n",
    "def convert_to_coords(pts):\n",
    "    return [p.real for p in pts], [p.imag for p in pts]"
   ]
  },
  {
   "cell_type": "code",
   "execution_count": 3,
   "metadata": {},
   "outputs": [],
   "source": [
    "def simulate(start_pts, step_size=0.0001, stop_distance=0.0005, return_center=False):\n",
    "    \n",
    "    n_pts = len(start_pts)\n",
    "    current_pts = [p for p in start_pts]\n",
    "    paths = [[start_pts[k]] for k in range(n_pts)]\n",
    "    center = sum(start_pts) / n_pts\n",
    "    \n",
    "    while True:\n",
    "        for k in range(n_pts):\n",
    "            if k == 0:\n",
    "                last_target = current_pts[0]\n",
    "                # store pos of first point, else last point will step towards updated pos of first point\n",
    "\n",
    "            if k == n_pts - 1:\n",
    "                target = last_target\n",
    "            else:\n",
    "                target = current_pts[k+1]\n",
    "            \n",
    "            step = (target - current_pts[k]) * step_size\n",
    "            current_pts[k] += step\n",
    "            \n",
    "            paths[k].append(current_pts[k])\n",
    "        \n",
    "        if all(abs(p - center) < stop_distance for p in current_pts) or any(abs(p - center) > 10 for p in current_pts):\n",
    "            break\n",
    "    \n",
    "    path_coords = [convert_to_coords(paths[k]) for k in range(n_pts)]\n",
    "    \n",
    "    if return_center:\n",
    "        center_coords = [center.real, center.imag]\n",
    "        \n",
    "        return path_coords, center_coords\n",
    "    else:\n",
    "        return path_coords\n"
   ]
  },
  {
   "cell_type": "code",
   "execution_count": 4,
   "metadata": {},
   "outputs": [],
   "source": [
    "def derivative(coords, degree=1, step=0.0001):\n",
    "    \n",
    "    for i in range(degree):\n",
    "        deriv_coords = []\n",
    "        \n",
    "        for x, y in coords:\n",
    "            x_deriv = [(x[j+1] - x[j]) / step for j in range(len(x)-1)]\n",
    "            y_deriv = [(y[j+1] - y[j]) / step for j in range(len(x)-1)]\n",
    "\n",
    "            deriv_coords.append((x_deriv, y_deriv))\n",
    "        \n",
    "        coords = [deriv_coords[k] for k in range(len(deriv_coords))]\n",
    "    \n",
    "    return deriv_coords\n"
   ]
  },
  {
   "cell_type": "code",
   "execution_count": 5,
   "metadata": {},
   "outputs": [],
   "source": [
    "def graph(\n",
    "    paths=[],\n",
    "    points=[],\n",
    "    color='b',\n",
    "    c_dot=[],\n",
    "    axis_lim=[-1.25, 1.25],\n",
    "    tick=6,\n",
    "    save=''\n",
    "):\n",
    "    \n",
    "    plt.axis('square')\n",
    "    plt.xlim(*axis_lim)\n",
    "    plt.ylim(*axis_lim)\n",
    "    plt.locator_params(axis='both', nbins=tick, integer=False)\n",
    "    \n",
    "    for path in paths:\n",
    "        plt.plot(*path, color+',')\n",
    "        \n",
    "    if points:\n",
    "        plt.plot(*points, 'go')\n",
    "    \n",
    "    if c_dot:\n",
    "        plt.plot(*c_dot, 'ro')\n",
    "    \n",
    "    if save:\n",
    "        plt.savefig('Desktop/EE/Graphs/'+save, format='eps', bbox_inches='tight')\n"
   ]
  },
  {
   "cell_type": "code",
   "execution_count": 6,
   "metadata": {},
   "outputs": [],
   "source": [
    "def parametric(x_func, y_func, t_init=0, t_fin=10, t_step=0.0001):\n",
    "    \n",
    "    coordinates = ([], [])\n",
    "    \n",
    "    for t in [t_init + i*t_step for i in range(math.ceil((t_fin-t_init)/t_step))]:\n",
    "        coordinates[0].append(x_func(t))\n",
    "        coordinates[1].append(y_func(t))\n",
    "    \n",
    "    return coordinates\n"
   ]
  },
  {
   "cell_type": "code",
   "execution_count": 7,
   "metadata": {},
   "outputs": [],
   "source": [
    "def max_discrepancy(coords1, coords2):\n",
    "    \n",
    "    max_discr = 0\n",
    "    \n",
    "    for path1, path2 in zip(coords1, coords2):\n",
    "        for n in range(min(len(path1), len(path2))):\n",
    "            x_discr = abs(path1[0][n] - path2[0][n])\n",
    "            y_discr = abs(path1[1][n] - path2[1][n])\n",
    "\n",
    "            discr = math.sqrt(x_discr ** 2 + y_discr ** 2)\n",
    "            if discr > max_discr:\n",
    "                max_discr = discr\n",
    "\n",
    "    return max_discr"
   ]
  },
  {
   "cell_type": "markdown",
   "metadata": {},
   "source": [
    "## Simulations"
   ]
  },
  {
   "cell_type": "code",
   "execution_count": 8,
   "metadata": {},
   "outputs": [
    {
     "data": {
      "image/png": "[encoded data removed]",
      "text/plain": [
       "<Figure size 432x288 with 1 Axes>"
      ]
     },
     "metadata": {},
     "output_type": "display_data"
    }
   ],
   "source": [
    "points = reset_pts()\n",
    "pt_coords = convert_to_coords(points)\n",
    "spi_pa_coords, c = simulate(points, return_center=True)\n",
    "\n",
    "graph(spi_pa_coords, pt_coords, c_dot=c)"
   ]
  },
  {
   "cell_type": "code",
   "execution_count": 9,
   "metadata": {},
   "outputs": [
    {
     "data": {
      "image/png": "[encoded data removed]",
      "text/plain": [
       "<Figure size 432x288 with 1 Axes>"
      ]
     },
     "metadata": {},
     "output_type": "display_data"
    }
   ],
   "source": [
    "points = reset_pts()\n",
    "points = reorder(points, [0, 2, 1, 3])\n",
    "pt_coords = convert_to_coords(points)\n",
    "pa_coords, c = simulate(points, return_center=True)\n",
    "\n",
    "graph(pa_coords, pt_coords, c_dot=c)"
   ]
  },
  {
   "cell_type": "code",
   "execution_count": 10,
   "metadata": {},
   "outputs": [
    {
     "data": {
      "image/png": "[encoded data removed]",
      "text/plain": [
       "<Figure size 432x288 with 1 Axes>"
      ]
     },
     "metadata": {},
     "output_type": "display_data"
    }
   ],
   "source": [
    "graph([pa_coords[0]], pt_coords)\n",
    "graph([pa_coords[1]], color='c')\n",
    "graph([pa_coords[2]], color='m')\n",
    "graph([pa_coords[3]], color='y', c_dot=c)"
   ]
  },
  {
   "cell_type": "code",
   "execution_count": 11,
   "metadata": {},
   "outputs": [
    {
     "data": {
      "image/png": "[encoded data removed]",
      "text/plain": [
       "<Figure size 432x288 with 1 Axes>"
      ]
     },
     "metadata": {},
     "output_type": "display_data"
    }
   ],
   "source": [
    "deriv_coords = derivative(pa_coords)\n",
    "\n",
    "graph([deriv_coords[0]])\n",
    "graph([deriv_coords[1]], color='c')\n",
    "graph([deriv_coords[2]], color='m')\n",
    "graph([deriv_coords[3]], color='y', axis_lim=[-2.25, 2.25], tick=10)\n"
   ]
  },
  {
   "cell_type": "code",
   "execution_count": 12,
   "metadata": {},
   "outputs": [
    {
     "data": {
      "image/png": "[encoded data removed]",
      "text/plain": [
       "<Figure size 432x288 with 1 Axes>"
      ]
     },
     "metadata": {},
     "output_type": "display_data"
    }
   ],
   "source": [
    "deriv2_coords = derivative(deriv_coords)\n",
    "\n",
    "graph([deriv2_coords[0]])\n",
    "graph([deriv2_coords[1]], color='c')\n",
    "graph([deriv2_coords[2]], color='m')\n",
    "graph([deriv2_coords[3]], color='y', axis_lim=[-3.25, 3.25], tick=8)\n"
   ]
  },
  {
   "cell_type": "code",
   "execution_count": 13,
   "metadata": {},
   "outputs": [
    {
     "data": {
      "image/png": "[encoded data removed]",
      "text/plain": [
       "<Figure size 432x288 with 1 Axes>"
      ]
     },
     "metadata": {},
     "output_type": "display_data"
    }
   ],
   "source": [
    "new_pa_coords = [(\n",
    "    [-3*x_coord-y_coord for x_coord, y_coord in zip(x, y)],\n",
    "    [-x_coord-3*y_coord for x_coord, y_coord in zip(x, y)]\n",
    ") for x, y in pa_coords]\n",
    "\n",
    "graph([new_pa_coords[0]])\n",
    "graph([new_pa_coords[1]], color='c')\n",
    "graph([new_pa_coords[2]], color='m')\n",
    "graph([new_pa_coords[3]], color='y', axis_lim=[-3.25, 3.25], tick=8)\n"
   ]
  },
  {
   "cell_type": "code",
   "execution_count": 14,
   "metadata": {},
   "outputs": [
    {
     "data": {
      "image/png": "[encoded data removed]",
      "text/plain": [
       "<Figure size 432x288 with 1 Axes>"
      ]
     },
     "metadata": {},
     "output_type": "display_data"
    }
   ],
   "source": [
    "points = [complex(1, -1), complex(-1, 1), complex(1, 1), complex(-1, -1)]\n",
    "rot_pt_coords = convert_to_coords(points)\n",
    "rot_pa_coords, c = simulate(points, return_center=True)\n",
    "\n",
    "graph([rot_pa_coords[0]])\n",
    "graph([rot_pa_coords[1]], color='c')\n",
    "graph([rot_pa_coords[2]], color='m')\n",
    "graph([rot_pa_coords[3]], rot_pt_coords, color='y', c_dot=c, axis_lim=[-1.5, 1.5])"
   ]
  },
  {
   "cell_type": "code",
   "execution_count": 15,
   "metadata": {},
   "outputs": [
    {
     "data": {
      "image/png": "[encoded data removed]",
      "text/plain": [
       "<Figure size 432x288 with 1 Axes>"
      ]
     },
     "metadata": {},
     "output_type": "display_data"
    }
   ],
   "source": [
    "points = [complex(random.uniform(-1, 1), random.uniform(-1, 1)) for k in range(5)]\n",
    "rand_pa_coords, c = simulate(points, return_center=True)\n",
    "rand_pt_coords = convert_to_coords(points)\n",
    "\n",
    "graph(rand_pa_coords, rand_pt_coords, c_dot=c)\n",
    "# image generated here may not the same as the one used in the paper, as it is random each time"
   ]
  },
  {
   "cell_type": "markdown",
   "metadata": {},
   "source": [
    "## Calculations"
   ]
  },
  {
   "cell_type": "markdown",
   "metadata": {},
   "source": [
    "### Plots of Parametrics\n",
    "\n",
    "Spiral parametrics:\n",
    "\n",
    "\\begin{align*}\n",
    "r &= e^{-t}e^{it} \\\\\n",
    "r &= e^{-t}e^{i\\left(t+\\frac{\\pi}{2}\\right)} \\\\\n",
    "r &= e^{-t}e^{i\\left(t+\\pi\\right)} \\\\\n",
    "r &= e^{-t}e^{i\\left(t+\\frac{3\\pi}{2}\\right)}. \\\\\n",
    "\\end{align*}\n",
    "\n",
    "In rectangular form:\n",
    "\n",
    "\\begin{align*}\n",
    "r &= e^{-t}\\cos t + ie^{-t}\\sin t) \\\\\n",
    "r &= e^{-t}\\cos\\left(t+\\frac{\\pi}{2}\\right) + ie^{-t}\\sin\\left(t+\\frac{\\pi}{2}\\right) \\\\\n",
    "r &= e^{-t}\\cos(t+\\pi) + ie^{-t}\\sin(t+\\pi) \\\\\n",
    "r &= e^{-t}\\cos\\left(t+\\frac{3\\pi}{2}\\right) + ie^{-t}\\sin\\left(t+\\frac{3\\pi}{2}\\right).\n",
    "\\end{align*}\n",
    "\n",
    "Substitute trig functions:\n",
    "\n",
    "\\begin{align*}\n",
    "r &= e^{-t}\\cos t + ie^{-t}\\sin t \\\\\n",
    "r &= -e^{-t}\\sin t + ie^{-t}\\cos t \\\\\n",
    "r &= -e^{-t}\\cos t - ie^{-t}\\sin t \\\\\n",
    "r &= e^{-t}\\sin t - ie^{-t}\\cos t.\n",
    "\\end{align*}"
   ]
  },
  {
   "cell_type": "code",
   "execution_count": 16,
   "metadata": {},
   "outputs": [],
   "source": [
    "def x_1(t):\n",
    "    return math.e ** (-t) * math.cos(t)\n",
    "\n",
    "def y_1(t):\n",
    "    return math.e ** (-t) * math.sin(t)\n",
    "\n",
    "def x_2(t):\n",
    "    return -math.e ** (-t) * math.sin(t)\n",
    "\n",
    "def y_2(t):\n",
    "    return math.e ** (-t) * math.cos(t)\n",
    "\n",
    "def x_3(t):\n",
    "    return -math.e ** (-t) * math.cos(t)\n",
    "\n",
    "def y_3(t):\n",
    "    return -math.e ** (-t) * math.sin(t)\n",
    "\n",
    "def x_4(t):\n",
    "    return math.e ** (-t) * math.sin(t)\n",
    "\n",
    "def y_4(t):\n",
    "    return -math.e ** (-t) * math.cos(t)"
   ]
  },
  {
   "cell_type": "markdown",
   "metadata": {},
   "source": [
    "Plot parametrics and check discrepancy with simulation"
   ]
  },
  {
   "cell_type": "code",
   "execution_count": 17,
   "metadata": {},
   "outputs": [
    {
     "name": "stdout",
     "output_type": "stream",
     "text": [
      "Maximum Discrepancy:  9.999666672212565e-09\n"
     ]
    },
    {
     "data": {
      "image/png": "[encoded data removed]",
      "text/plain": [
       "<Figure size 432x288 with 1 Axes>"
      ]
     },
     "metadata": {},
     "output_type": "display_data"
    }
   ],
   "source": [
    "plot_coords = [\n",
    "    parametric(x_1, y_1),\n",
    "    parametric(x_2, y_2),\n",
    "    parametric(x_3, y_3),\n",
    "    parametric(x_4, y_4)\n",
    "]\n",
    "\n",
    "init_pts = convert_to_coords(reset_pts())\n",
    "\n",
    "graph(plot_coords, init_pts, c_dot=[0, 0])\n",
    "\n",
    "print(\"Maximum Discrepancy: \", max_discrepancy(plot_coords, spi_pa_coords))"
   ]
  },
  {
   "cell_type": "markdown",
   "metadata": {},
   "source": [
    "Switched parametrics:\n",
    "\n",
    "\\begin{align*}\n",
    "f_1(t) &= \\frac{1}{2}e^{-t}\\left(e^{-t} + \\cos t - \\sin t + \\left(e^{-t} - \\cos t + \\sin t\\right)i\\right) \\\\\n",
    "f_2(t) &= \\frac{1}{2}e^{-t}\\left(-e^{-t} - \\cos t - \\sin t + \\left(-e^{-t} + \\cos t + \\sin t\\right)i\\right) \\\\\n",
    "f_3(t) &= \\frac{1}{2}e^{-t}\\left(e^{-t} - \\cos t + \\sin t + \\left(e^{-t} + \\cos t - \\sin t\\right)i\\right) \\\\\n",
    "f_4(t) &= \\frac{1}{2}e^{-t}\\left(-e^{-t} + \\cos t + \\sin t + \\left(-e^{-t} - \\cos t - \\sin t\\right)i\\right), \\\\\n",
    "\\end{align*}"
   ]
  },
  {
   "cell_type": "code",
   "execution_count": 25,
   "metadata": {},
   "outputs": [],
   "source": [
    "def x_1(t):\n",
    "    return (math.e ** (-t) + math.cos(t) - math.sin(t)) * (math.e ** (-t)) / 2\n",
    "\n",
    "def y_1(t):\n",
    "    return (math.e ** (-t) - math.cos(t) + math.sin(t)) * (math.e ** (-t)) / 2\n",
    "\n",
    "def x_2(t):\n",
    "    return (-math.e ** (-t) - math.cos(t) - math.sin(t)) * (math.e ** (-t)) / 2\n",
    "\n",
    "def y_2(t):\n",
    "    return (-math.e ** (-t) + math.cos(t) + math.sin(t)) * (math.e ** (-t)) / 2\n",
    "\n",
    "def x_3(t):\n",
    "    return (math.e ** (-t) - math.cos(t) + math.sin(t)) * (math.e ** (-t)) / 2\n",
    "\n",
    "def y_3(t):\n",
    "    return (math.e ** (-t) + math.cos(t) - math.sin(t)) * (math.e ** (-t)) / 2\n",
    "\n",
    "def x_4(t):\n",
    "    return (-math.e ** (-t) + math.cos(t) + math.sin(t)) * (math.e ** (-t)) / 2\n",
    "\n",
    "def y_4(t):\n",
    "    return (-math.e ** (-t) - math.cos(t) - math.sin(t)) * (math.e ** (-t)) / 2"
   ]
  },
  {
   "cell_type": "code",
   "execution_count": 27,
   "metadata": {},
   "outputs": [
    {
     "name": "stdout",
     "output_type": "stream",
     "text": [
      "Maximum Discrepancy:  1.5810545038958803e-08\n"
     ]
    },
    {
     "data": {
      "image/png": "[encoded data removed]",
      "text/plain": [
       "<Figure size 432x288 with 1 Axes>"
      ]
     },
     "metadata": {},
     "output_type": "display_data"
    }
   ],
   "source": [
    "plot_coords = [\n",
    "    parametric(x_1, y_1),\n",
    "    parametric(x_2, y_2),\n",
    "    parametric(x_3, y_3),\n",
    "    parametric(x_4, y_4)\n",
    "]\n",
    "\n",
    "init_pts = convert_to_coords(reset_pts())\n",
    "\n",
    "graph(plot_coords, init_pts, c_dot=[0, 0])\n",
    "\n",
    "print(\"Maximum Discrepancy: \", max_discrepancy(plot_coords, pa_coords))"
   ]
  },
  {
   "cell_type": "markdown",
   "metadata": {},
   "source": [
    "Check that the transformed graph matches the second derivative"
   ]
  },
  {
   "cell_type": "code",
   "execution_count": 20,
   "metadata": {},
   "outputs": [
    {
     "name": "stdout",
     "output_type": "stream",
     "text": [
      "Maximum sum of diagonal components:  9.449103277614763e-09\n"
     ]
    }
   ],
   "source": [
    "reordered_new_pa_coords = reorder(new_pa_coords, [1, 2, 3, 0])\n",
    "\n",
    "print(\"Maximum sum of diagonal components: \", max_discrepancy(reordered_new_pa_coords, deriv2_coords))"
   ]
  },
  {
   "cell_type": "markdown",
   "metadata": {},
   "source": [
    "Verify the diagonal components of $f_1(t)$ and $f_2(t)$ are equal and opposite"
   ]
  },
  {
   "cell_type": "code",
   "execution_count": 21,
   "metadata": {},
   "outputs": [
    {
     "name": "stdout",
     "output_type": "stream",
     "text": [
      "Maximum sum of diagonal components:  1.785980171752794e-15\n"
     ]
    }
   ],
   "source": [
    "max_sum = 0\n",
    "\n",
    "for a, b, c, d in zip(pa_coords[0][0], pa_coords[0][1], pa_coords[1][0], pa_coords[1][1]):\n",
    "    s = abs(a + b + c + d)\n",
    "    \n",
    "    if s > max_sum:\n",
    "        max_sum = s\n",
    "\n",
    "print(\"Maximum sum of diagonal components: \", max_sum / math.sqrt(2))"
   ]
  },
  {
   "cell_type": "markdown",
   "metadata": {},
   "source": [
    "Matrix exponential for 5 points (will be the same for all systems of $5$ points, only the initial condition vector changes)"
   ]
  },
  {
   "cell_type": "code",
   "execution_count": null,
   "metadata": {},
   "outputs": [],
   "source": [
    "t = sp.symbols('t')\n",
    "A = sp.Matrix(t*np.array([[-1, 1, 0, 0, 0],[0, -1, 1, 0, 0],[0, 0, -1, 1, 0],[0, 0, 0, -1, 1],[1, 0, 0, 0, -1]]))\n",
    "print(sp.simplify(sp.exp(A)))\n",
    "# Have not run here as output is extremely long"
   ]
  }
 ],
 "metadata": {
  "kernelspec": {
   "display_name": "Python 3",
   "language": "python",
   "name": "python3"
  },
  "language_info": {
   "codemirror_mode": {
    "name": "ipython",
    "version": 3
   },
   "file_extension": ".py",
   "mimetype": "text/x-python",
   "name": "python",
   "nbconvert_exporter": "python",
   "pygments_lexer": "ipython3",
   "version": "3.8.5"
  }
 },
 "nbformat": 4,
 "nbformat_minor": 4
}
